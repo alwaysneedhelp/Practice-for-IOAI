{
  "cells": [
    {
      "cell_type": "markdown",
      "metadata": {
        "id": "view-in-github",
        "colab_type": "text"
      },
      "source": [
        "<a href=\"https://colab.research.google.com/github/alwaysneedhelp/Practice-for-IOAI/blob/main/objects_classifier_again_using_PyTorch.ipynb\" target=\"_parent\"><img src=\"https://colab.research.google.com/assets/colab-badge.svg\" alt=\"Open In Colab\"/></a>"
      ]
    },
    {
      "cell_type": "markdown",
      "metadata": {
        "id": "RXyrLNBQvmmH"
      },
      "source": [
        "# **SECOND ATTEMPT AFTER WATCHING THE TUTORIAL**"
      ]
    },
    {
      "cell_type": "markdown",
      "metadata": {
        "id": "pKHgpiH65iKi"
      },
      "source": [
        "watched it twice again, just to understand what is going on"
      ]
    },
    {
      "cell_type": "code",
      "execution_count": null,
      "metadata": {
        "id": "JoORPr-gbFPt"
      },
      "outputs": [],
      "source": [
        "import numpy as np\n",
        "from PIL import Image\n",
        "\n",
        "import torch.nn as nn\n",
        "import torch\n",
        "import torch.nn.functional as F\n",
        "import torch.optim as optim\n",
        "\n",
        "\n",
        "import torchvision\n",
        "import torchvision.transforms as trans"
      ]
    },
    {
      "cell_type": "code",
      "execution_count": null,
      "metadata": {
        "id": "9x1b487UbrSY"
      },
      "outputs": [],
      "source": [
        "transformed = trans.Compose([\n",
        "    trans.ToTensor(),\n",
        "    trans.Normalize((0.5, 0.5, 0.5), (0.5,0.5,0.5))\n",
        "])"
      ]
    },
    {
      "cell_type": "code",
      "execution_count": null,
      "metadata": {
        "id": "IMOg0cGtcOaS"
      },
      "outputs": [],
      "source": [
        "train_data = torchvision.datasets.CIFAR10(root='data', download=True, train=True, transform=transformed)\n",
        "test_data = torchvision.datasets.CIFAR10(root='data', download=True, train=False, transform=transformed)"
      ]
    },
    {
      "cell_type": "code",
      "execution_count": null,
      "metadata": {
        "id": "mLOrp4OlcbAD"
      },
      "outputs": [],
      "source": [
        "train_loader = torch.utils.data.DataLoader(train_data, batch_size=32, shuffle=True, num_workers=2)\n",
        "test_loader = torch.utils.data.DataLoader(test_data, batch_size=32, shuffle=True, num_workers=2)"
      ]
    },
    {
      "cell_type": "code",
      "execution_count": null,
      "metadata": {
        "id": "1-23Va8X0KcM"
      },
      "outputs": [],
      "source": [
        "class_names = ['airplane','automobile','bird','cat','deer','dog','frog','horse','ship','truck']"
      ]
    },
    {
      "cell_type": "code",
      "execution_count": null,
      "metadata": {
        "id": "M_O25RF00jg9"
      },
      "outputs": [],
      "source": [
        "class NeuralNet(nn.Module):\n",
        "\n",
        "  def __init__(self):\n",
        "    super(NeuralNet, self).__init__()\n",
        "\n",
        "    self.conv1 = nn.Conv2d(3, 12, 5)\n",
        "    self.conv2 = nn.Conv2d(12, 24, 5)\n",
        "    self.pool = nn.MaxPool2d((2,2))\n",
        "    self.fc1 = nn.Linear(24*5*5, 120)\n",
        "    self.fc2 = nn.Linear(120, 84)\n",
        "    self.fc3 = nn.Linear(84, 10)\n",
        "\n",
        "\n",
        "  def forward(self, x):\n",
        "    x = self.pool(F.relu(self.conv1(x)))\n",
        "    x = self.pool(F.relu(self.conv2(x)))\n",
        "    x = torch.flatten(x, 1)\n",
        "    x = F.relu(self.fc1(x))\n",
        "    x = F.relu(self.fc2(x))\n",
        "    x = self.fc3(x)\n",
        "    return x"
      ]
    },
    {
      "cell_type": "code",
      "execution_count": null,
      "metadata": {
        "colab": {
          "base_uri": "https://localhost:8080/"
        },
        "id": "HQ1W1LqH3Jdd",
        "outputId": "e0e89e60-5e05-44e9-ffcc-e36d6cea7fbb"
      },
      "outputs": [
        {
          "name": "stdout",
          "output_type": "stream",
          "text": [
            "conv1.weight torch.Size([12, 3, 5, 5])\n",
            "conv1.bias torch.Size([12])\n",
            "conv2.weight torch.Size([24, 12, 5, 5])\n",
            "conv2.bias torch.Size([24])\n",
            "fc1.weight torch.Size([120, 600])\n",
            "fc1.bias torch.Size([120])\n",
            "fc2.weight torch.Size([84, 120])\n",
            "fc2.bias torch.Size([84])\n",
            "fc3.weight torch.Size([10, 84])\n",
            "fc3.bias torch.Size([10])\n"
          ]
        }
      ],
      "source": [
        "for name, param in NeuralNet().named_parameters():\n",
        "    print(name, param.shape)"
      ]
    },
    {
      "cell_type": "code",
      "execution_count": null,
      "metadata": {
        "id": "0VHRMnh50skD"
      },
      "outputs": [],
      "source": [
        "net = NeuralNet()\n",
        "loss_function = nn.CrossEntropyLoss()\n",
        "optimizer = optim.SGD(net.parameters(), lr=0.001, momentum=0.9)"
      ]
    },
    {
      "cell_type": "code",
      "execution_count": null,
      "metadata": {
        "colab": {
          "background_save": true,
          "base_uri": "https://localhost:8080/"
        },
        "id": "J63q4_Zv2Ekq",
        "collapsed": true,
        "outputId": "00d6013b-651b-44d2-da35-221c953ab676"
      },
      "outputs": [
        {
          "name": "stdout",
          "output_type": "stream",
          "text": [
            "Training epoch 0...\n",
            "Loss: 2.1917\n",
            "Training epoch 1...\n",
            "Loss: 1.7520\n",
            "Training epoch 2...\n",
            "Loss: 1.5407\n",
            "Training epoch 3...\n",
            "Loss: 1.4269\n",
            "Training epoch 4...\n",
            "Loss: 1.3369\n",
            "Training epoch 5...\n",
            "Loss: 1.2508\n",
            "Training epoch 6...\n",
            "Loss: 1.1789\n",
            "Training epoch 7...\n",
            "Loss: 1.1151\n",
            "Training epoch 8...\n",
            "Loss: 1.0621\n",
            "Training epoch 9...\n",
            "Loss: 1.0147\n",
            "Training epoch 10...\n",
            "Loss: 0.9737\n",
            "Training epoch 11...\n",
            "Loss: 0.9352\n",
            "Training epoch 12...\n",
            "Loss: 0.8971\n",
            "Training epoch 13...\n",
            "Loss: 0.8648\n",
            "Training epoch 14...\n",
            "Loss: 0.8285\n",
            "Training epoch 15...\n",
            "Loss: 0.8002\n",
            "Training epoch 16...\n",
            "Loss: 0.7674\n",
            "Training epoch 17...\n",
            "Loss: 0.7375\n",
            "Training epoch 18...\n",
            "Loss: 0.7168\n",
            "Training epoch 19...\n",
            "Loss: 0.6884\n",
            "Training epoch 20...\n",
            "Loss: 0.6597\n",
            "Training epoch 21...\n",
            "Loss: 0.6349\n",
            "Training epoch 22...\n",
            "Loss: 0.6135\n",
            "Training epoch 23...\n",
            "Loss: 0.5951\n",
            "Training epoch 24...\n",
            "Loss: 0.5689\n",
            "Training epoch 25...\n",
            "Loss: 0.5443\n",
            "Training epoch 26...\n",
            "Loss: 0.5232\n",
            "Training epoch 27...\n",
            "Loss: 0.5034\n",
            "Training epoch 28...\n",
            "Loss: 0.4817\n",
            "Training epoch 29...\n",
            "Loss: 0.4636\n",
            "Training epoch 30...\n",
            "Loss: 0.4447\n",
            "Training epoch 31...\n",
            "Loss: 0.4253\n",
            "Training epoch 32...\n",
            "Loss: 0.4082\n",
            "Training epoch 33...\n",
            "Loss: 0.3867\n",
            "Training epoch 34...\n",
            "Loss: 0.3712\n",
            "Training epoch 35...\n",
            "Loss: 0.3525\n",
            "Training epoch 36...\n",
            "Loss: 0.3401\n",
            "Training epoch 37...\n",
            "Loss: 0.3234\n",
            "Training epoch 38...\n",
            "Loss: 0.3127\n",
            "Training epoch 39...\n",
            "Loss: 0.2887\n",
            "Training epoch 40...\n",
            "Loss: 0.2800\n",
            "Training epoch 41...\n",
            "Loss: 0.2615\n",
            "Training epoch 42...\n",
            "Loss: 0.2550\n",
            "Training epoch 43...\n",
            "Loss: 0.2430\n",
            "Training epoch 44...\n",
            "Loss: 0.2272\n",
            "Training epoch 45...\n",
            "Loss: 0.2202\n",
            "Training epoch 46...\n",
            "Loss: 0.2021\n",
            "Training epoch 47...\n",
            "Loss: 0.2007\n",
            "Training epoch 48...\n",
            "Loss: 0.1882\n",
            "Training epoch 49...\n",
            "Loss: 0.1801\n"
          ]
        }
      ],
      "source": [
        "for epoch in range(50):\n",
        "  print(f'Training epoch {epoch}...')\n",
        "\n",
        "  running_loss = 0.0\n",
        "\n",
        "  for i, data in enumerate(train_loader):\n",
        "    inputs, labels = data\n",
        "    optimizer.zero_grad()\n",
        "\n",
        "    outputs = net(inputs)\n",
        "    loss = loss_function(outputs, labels)\n",
        "\n",
        "    loss.backward()\n",
        "    optimizer.step()\n",
        "\n",
        "    running_loss += loss.item()\n",
        "\n",
        "  print(f'Loss: {(running_loss/len(train_loader)):.4f}')"
      ]
    },
    {
      "cell_type": "code",
      "execution_count": null,
      "metadata": {
        "id": "SdfxVrDp46i8"
      },
      "outputs": [],
      "source": [
        "torch.save(net.state_dict(), 'models/objects_classifier_torch.pth')"
      ]
    },
    {
      "cell_type": "code",
      "execution_count": null,
      "metadata": {
        "id": "QPuvddqs5_Fu"
      },
      "outputs": [],
      "source": [
        "net = NeuralNet()\n",
        "net.load_state_dict(torch.load('models/objects_classifier_torch.pth'))"
      ]
    },
    {
      "cell_type": "code",
      "execution_count": null,
      "metadata": {
        "colab": {
          "base_uri": "https://localhost:8080/"
        },
        "id": "flYkOZDJ6GlE",
        "outputId": "a066ff5c-21de-462e-f182-ee3c82b2e46b"
      },
      "outputs": [
        {
          "name": "stdout",
          "output_type": "stream",
          "text": [
            "Accuracy is 69.29\n"
          ]
        }
      ],
      "source": [
        "correct = 0\n",
        "total = 0\n",
        "\n",
        "\n",
        "net.eval()\n",
        "\n",
        "with torch.no_grad():\n",
        "  for data in test_loader:\n",
        "    inputs, labels = data\n",
        "    outputs = net(inputs)\n",
        "    _, predicted = torch.max(outputs, 1)\n",
        "    total += labels.size(0)\n",
        "    correct += (predicted==labels).sum().item()\n",
        "\n",
        "accuracy = 100 * correct / total\n",
        "\n",
        "print(f'Accuracy is {accuracy}')"
      ]
    },
    {
      "cell_type": "code",
      "execution_count": null,
      "metadata": {
        "id": "rBB_sD7L8s9C"
      },
      "outputs": [],
      "source": [
        "new_transform = trans.Compose([\n",
        "    trans.Resize((32, 32)),\n",
        "    trans.ToTensor(),\n",
        "    trans.Normalize((0.5,0.5,0.5), (0.5,0.5,0.5))\n",
        "])"
      ]
    },
    {
      "cell_type": "code",
      "execution_count": null,
      "metadata": {
        "colab": {
          "base_uri": "https://localhost:8080/"
        },
        "id": "wz5o-oBM9htW",
        "outputId": "2dbdc8f4-b142-4ef0-e298-d0b27fc54a8b"
      },
      "outputs": [
        {
          "name": "stdout",
          "output_type": "stream",
          "text": [
            "Prediction: dog\n",
            "Prediction: airplane\n"
          ]
        }
      ],
      "source": [
        "def load_image(image_path):\n",
        "  image = Image.open(image_path)\n",
        "  image = new_transform(image)\n",
        "  image = image.unsqueeze(0)\n",
        "  return image\n",
        "\n",
        "image_paths = ['./input_data/dog.jpg', './input_data/plane.jpg']\n",
        "\n",
        "images = [load_image(img) for img in image_paths]\n",
        "\n",
        "with torch.no_grad():\n",
        "  for image in images:\n",
        "    output = net(image)\n",
        "    _, predicted = torch.max(output, 1)\n",
        "    print(f'Prediction: {class_names[predicted.item()]}')"
      ]
    },
    {
      "cell_type": "code",
      "execution_count": null,
      "metadata": {
        "id": "k74JB_Mt-xyC"
      },
      "outputs": [],
      "source": []
    }
  ],
  "metadata": {
    "colab": {
      "provenance": [],
      "authorship_tag": "ABX9TyORaeWbZbxWdUjGWClYzWMz",
      "include_colab_link": true
    },
    "kernelspec": {
      "display_name": "Python 3",
      "name": "python3"
    },
    "language_info": {
      "name": "python"
    }
  },
  "nbformat": 4,
  "nbformat_minor": 0
}