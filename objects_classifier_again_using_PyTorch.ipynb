{
  "nbformat": 4,
  "nbformat_minor": 0,
  "metadata": {
    "colab": {
      "provenance": [],
      "authorship_tag": "ABX9TyPDkkJyOkI/FSczN6I+A++j",
      "include_colab_link": true
    },
    "kernelspec": {
      "name": "python3",
      "display_name": "Python 3"
    },
    "language_info": {
      "name": "python"
    }
  },
  "cells": [
    {
      "cell_type": "markdown",
      "metadata": {
        "id": "view-in-github",
        "colab_type": "text"
      },
      "source": [
        "<a href=\"https://colab.research.google.com/github/alwaysneedhelp/Practice-for-IOAI/blob/main/objects_classifier_again_using_PyTorch.ipynb\" target=\"_parent\"><img src=\"https://colab.research.google.com/assets/colab-badge.svg\" alt=\"Open In Colab\"/></a>"
      ]
    },
    {
      "cell_type": "markdown",
      "source": [
        "# **SECOND ATTEMPT AFTER WATCHING THE TUTORIAL**"
      ],
      "metadata": {
        "id": "RXyrLNBQvmmH"
      }
    },
    {
      "cell_type": "markdown",
      "source": [
        "watched it twice again, just to understand what is going on"
      ],
      "metadata": {
        "id": "pKHgpiH65iKi"
      }
    },
    {
      "cell_type": "code",
      "execution_count": 4,
      "metadata": {
        "id": "JoORPr-gbFPt"
      },
      "outputs": [],
      "source": [
        "import numpy as np\n",
        "from PIL import Image\n",
        "\n",
        "import torch.nn as nn\n",
        "import torch\n",
        "import torch.nn.functional as F\n",
        "import torch.optim as optim\n",
        "\n",
        "\n",
        "import torchvision\n",
        "import torchvision.transforms as trans"
      ]
    },
    {
      "cell_type": "code",
      "source": [
        "transformed = trans.Compose([\n",
        "    trans.ToTensor(),\n",
        "    trans.Normalize((0.5, 0.5, 0.5), (0.5,0.5,0.5))\n",
        "])"
      ],
      "metadata": {
        "id": "9x1b487UbrSY"
      },
      "execution_count": 5,
      "outputs": []
    },
    {
      "cell_type": "code",
      "source": [
        "train_data = torchvision.datasets.CIFAR10(root='data', download=True, train=True, transform=transformed)\n",
        "test_data = torchvision.datasets.CIFAR10(root='data', download=True, train=False, transform=transformed)"
      ],
      "metadata": {
        "id": "IMOg0cGtcOaS"
      },
      "execution_count": 12,
      "outputs": []
    },
    {
      "cell_type": "code",
      "source": [
        "train_loader = torch.utils.data.DataLoader(train_data, batch_size=32, shuffle=True, num_workers=2)\n",
        "test_loader = torch.utils.data.DataLoader(test_data, batch_size=32, shuffle=True, num_workers=2)"
      ],
      "metadata": {
        "id": "mLOrp4OlcbAD"
      },
      "execution_count": 13,
      "outputs": []
    },
    {
      "cell_type": "code",
      "source": [
        "class_names = ['airplane','automobile','bird','cat','deer','dog','frog','horse','ship','truck']"
      ],
      "metadata": {
        "id": "1-23Va8X0KcM"
      },
      "execution_count": 14,
      "outputs": []
    },
    {
      "cell_type": "code",
      "source": [
        "class NeuralNet(nn.Module):\n",
        "\n",
        "  def __init__(self):\n",
        "    super(NeuralNet, self).__init__()\n",
        "\n",
        "    self.conv1 = nn.Conv2d(3, 12, 5)\n",
        "    self.conv2 = nn.Conv2d(12, 24, 5)\n",
        "    self.pool = nn.MaxPool2d((2,2))\n",
        "    self.fc1 = nn.Linear(24*5*5, 120)\n",
        "    self.fc2 = nn.Linear(120, 84)\n",
        "    self.fc3 = nn.Linear(84, 10)\n",
        "\n",
        "\n",
        "  def forward(self, x):\n",
        "    x = self.pool(F.relu(self.conv1(x)))\n",
        "    x = self.pool(F.relu(self.conv2(x)))\n",
        "    x = torch.flatten(x, 1)\n",
        "    x = F.relu(self.fc1(x))\n",
        "    x = F.relu(self.fc2(x))\n",
        "    x = self.fc3(x)\n",
        "    return x"
      ],
      "metadata": {
        "id": "M_O25RF00jg9"
      },
      "execution_count": 33,
      "outputs": []
    },
    {
      "cell_type": "code",
      "source": [
        "for name, param in NeuralNet().named_parameters():\n",
        "    print(name, param.shape)"
      ],
      "metadata": {
        "colab": {
          "base_uri": "https://localhost:8080/"
        },
        "id": "HQ1W1LqH3Jdd",
        "outputId": "e0e89e60-5e05-44e9-ffcc-e36d6cea7fbb"
      },
      "execution_count": 34,
      "outputs": [
        {
          "output_type": "stream",
          "name": "stdout",
          "text": [
            "conv1.weight torch.Size([12, 3, 5, 5])\n",
            "conv1.bias torch.Size([12])\n",
            "conv2.weight torch.Size([24, 12, 5, 5])\n",
            "conv2.bias torch.Size([24])\n",
            "fc1.weight torch.Size([120, 600])\n",
            "fc1.bias torch.Size([120])\n",
            "fc2.weight torch.Size([84, 120])\n",
            "fc2.bias torch.Size([84])\n",
            "fc3.weight torch.Size([10, 84])\n",
            "fc3.bias torch.Size([10])\n"
          ]
        }
      ]
    },
    {
      "cell_type": "code",
      "source": [
        "net = NeuralNet()\n",
        "loss_function = nn.CrossEntropyLoss()\n",
        "optimizer = optim.SGD(net.parameters(), lr=0.001, momentum=0.9)"
      ],
      "metadata": {
        "id": "0VHRMnh50skD"
      },
      "execution_count": 45,
      "outputs": []
    },
    {
      "cell_type": "code",
      "source": [
        "for epoch in range(30):\n",
        "  print(f'Training epoch {epoch}...')\n",
        "\n",
        "  running_loss = 0.0\n",
        "\n",
        "  for i, data in enumerate(train_loader):\n",
        "    inputs, labels = data\n",
        "    optimizer.zero_grad()\n",
        "\n",
        "    outputs = net(inputs)\n",
        "    loss = loss_function(outputs, labels)\n",
        "\n",
        "    loss.backward()\n",
        "    optimizer.step()\n",
        "\n",
        "    running_loss += loss.item()\n",
        "\n",
        "  print(f'Loss: {(running_loss/len(train_loader)):.4f}')"
      ],
      "metadata": {
        "colab": {
          "base_uri": "https://localhost:8080/"
        },
        "id": "J63q4_Zv2Ekq",
        "outputId": "69db6339-91e2-4b84-c61c-7eefafd9833e"
      },
      "execution_count": 46,
      "outputs": [
        {
          "output_type": "stream",
          "name": "stdout",
          "text": [
            "Training epoch 0...\n",
            "Loss: 2.2211\n",
            "Training epoch 1...\n",
            "Loss: 1.8047\n",
            "Training epoch 2...\n",
            "Loss: 1.5525\n",
            "Training epoch 3...\n",
            "Loss: 1.4119\n",
            "Training epoch 4...\n",
            "Loss: 1.2975\n",
            "Training epoch 5...\n",
            "Loss: 1.2066\n",
            "Training epoch 6...\n",
            "Loss: 1.1381\n",
            "Training epoch 7...\n",
            "Loss: 1.0788\n",
            "Training epoch 8...\n",
            "Loss: 1.0281\n",
            "Training epoch 9...\n",
            "Loss: 0.9839\n",
            "Training epoch 10...\n",
            "Loss: 0.9396\n",
            "Training epoch 11...\n",
            "Loss: 0.9040\n",
            "Training epoch 12...\n",
            "Loss: 0.8644\n",
            "Training epoch 13...\n",
            "Loss: 0.8313\n",
            "Training epoch 14...\n",
            "Loss: 0.7980\n",
            "Training epoch 15...\n",
            "Loss: 0.7677\n",
            "Training epoch 16...\n",
            "Loss: 0.7379\n",
            "Training epoch 17...\n",
            "Loss: 0.7063\n",
            "Training epoch 18...\n",
            "Loss: 0.6869\n",
            "Training epoch 19...\n",
            "Loss: 0.6597\n",
            "Training epoch 20...\n",
            "Loss: 0.6331\n",
            "Training epoch 21...\n",
            "Loss: 0.6089\n",
            "Training epoch 22...\n",
            "Loss: 0.5859\n",
            "Training epoch 23...\n",
            "Loss: 0.5620\n",
            "Training epoch 24...\n",
            "Loss: 0.5418\n",
            "Training epoch 25...\n",
            "Loss: 0.5188\n",
            "Training epoch 26...\n",
            "Loss: 0.4982\n",
            "Training epoch 27...\n",
            "Loss: 0.4791\n",
            "Training epoch 28...\n",
            "Loss: 0.4579\n",
            "Training epoch 29...\n",
            "Loss: 0.4388\n"
          ]
        }
      ]
    },
    {
      "cell_type": "code",
      "source": [
        "torch.save(net.state_dict(), 'model.pth')"
      ],
      "metadata": {
        "id": "SdfxVrDp46i8"
      },
      "execution_count": 52,
      "outputs": []
    },
    {
      "cell_type": "code",
      "source": [
        "net = NeuralNet()\n",
        "net.load_state_dict(torch.load('model.pth'))"
      ],
      "metadata": {
        "colab": {
          "base_uri": "https://localhost:8080/"
        },
        "id": "QPuvddqs5_Fu",
        "outputId": "4455d6f6-c13a-4168-e67b-0784fb3d4293"
      },
      "execution_count": 53,
      "outputs": [
        {
          "output_type": "execute_result",
          "data": {
            "text/plain": [
              "<All keys matched successfully>"
            ]
          },
          "metadata": {},
          "execution_count": 53
        }
      ]
    },
    {
      "cell_type": "code",
      "source": [
        "correct = 0\n",
        "total = 0\n",
        "\n",
        "\n",
        "net.eval()\n",
        "\n",
        "with torch.no_grad():\n",
        "  for data in test_loader:\n",
        "    inputs, labels = data\n",
        "    outputs = net(inputs)\n",
        "    _, predicted = torch.max(outputs, 1)\n",
        "    total += labels.size(0)\n",
        "    correct += (predicted==labels).sum().item()\n",
        "\n",
        "accuracy = 100 * correct / total\n",
        "\n",
        "print(f'Accuracy is {accuracy}')"
      ],
      "metadata": {
        "colab": {
          "base_uri": "https://localhost:8080/"
        },
        "id": "flYkOZDJ6GlE",
        "outputId": "a066ff5c-21de-462e-f182-ee3c82b2e46b"
      },
      "execution_count": 57,
      "outputs": [
        {
          "output_type": "stream",
          "name": "stdout",
          "text": [
            "Accuracy is 69.29\n"
          ]
        }
      ]
    },
    {
      "cell_type": "code",
      "source": [
        "new_transform = trans.Compose([\n",
        "    trans.Resize((32, 32)),\n",
        "    trans.ToTensor(),\n",
        "    trans.Normalize((0.5,0.5,0.5), (0.5,0.5,0.5))\n",
        "])"
      ],
      "metadata": {
        "id": "rBB_sD7L8s9C"
      },
      "execution_count": 58,
      "outputs": []
    },
    {
      "cell_type": "code",
      "source": [
        "def load_image(image_path):\n",
        "  image = Image.open(image_path)\n",
        "  image = new_transform(image)\n",
        "  image = image.unsqueeze(0)\n",
        "  return image\n",
        "\n",
        "image_paths = ['./input_data/dog.jpg', './input_data/plane.jpg']\n",
        "\n",
        "images = [load_image(img) for img in image_paths]\n",
        "\n",
        "with torch.no_grad():\n",
        "  for image in images:\n",
        "    output = net(image)\n",
        "    _, predicted = torch.max(output, 1)\n",
        "    print(f'Prediction: {class_names[predicted.item()]}')"
      ],
      "metadata": {
        "colab": {
          "base_uri": "https://localhost:8080/"
        },
        "id": "wz5o-oBM9htW",
        "outputId": "2dbdc8f4-b142-4ef0-e298-d0b27fc54a8b"
      },
      "execution_count": 60,
      "outputs": [
        {
          "output_type": "stream",
          "name": "stdout",
          "text": [
            "Prediction: dog\n",
            "Prediction: airplane\n"
          ]
        }
      ]
    },
    {
      "cell_type": "code",
      "source": [],
      "metadata": {
        "id": "k74JB_Mt-xyC"
      },
      "execution_count": null,
      "outputs": []
    }
  ]
}