{
  "nbformat": 4,
  "nbformat_minor": 0,
  "metadata": {
    "colab": {
      "provenance": []
    },
    "kernelspec": {
      "name": "python3",
      "display_name": "Python 3"
    },
    "language_info": {
      "name": "python"
    }
  },
  "cells": [
    {
      "cell_type": "code",
      "execution_count": 1,
      "metadata": {
        "id": "miM5DpEcZck1"
      },
      "outputs": [],
      "source": [
        "import numpy as np"
      ]
    },
    {
      "cell_type": "code",
      "source": [
        "lst = [1,2,3,4,5]\n",
        "print(lst)"
      ],
      "metadata": {
        "colab": {
          "base_uri": "https://localhost:8080/"
        },
        "id": "YuqjAOfGZgNV",
        "outputId": "49b02205-61b2-49a7-f07d-88cfc277b5d0"
      },
      "execution_count": 2,
      "outputs": [
        {
          "output_type": "stream",
          "name": "stdout",
          "text": [
            "[1, 2, 3, 4, 5]\n"
          ]
        }
      ]
    },
    {
      "cell_type": "code",
      "source": [
        "print('1D Array')\n",
        "a = np.array(lst)\n",
        "print(a)"
      ],
      "metadata": {
        "colab": {
          "base_uri": "https://localhost:8080/"
        },
        "id": "tV3o7ikJZi81",
        "outputId": "53f8b317-684c-4590-ac44-15c60646ee25"
      },
      "execution_count": 3,
      "outputs": [
        {
          "output_type": "stream",
          "name": "stdout",
          "text": [
            "1D Array\n",
            "[1 2 3 4 5]\n"
          ]
        }
      ]
    },
    {
      "cell_type": "code",
      "source": [
        "print('2D Array')\n",
        "b = np.array([lst,\n",
        "              lst])\n",
        "print(b)"
      ],
      "metadata": {
        "colab": {
          "base_uri": "https://localhost:8080/"
        },
        "id": "Cp0uWgqYZqe_",
        "outputId": "1c81d6bf-0d35-4dea-e4dd-0ab6c8ee592c"
      },
      "execution_count": 58,
      "outputs": [
        {
          "output_type": "stream",
          "name": "stdout",
          "text": [
            "2D Array\n",
            "[[1 2 3 4 5]\n",
            " [1 2 3 4 5]]\n"
          ]
        }
      ]
    },
    {
      "cell_type": "code",
      "source": [
        "print('3D Array')\n",
        "additional = np.array([lst, lst])\n",
        "c = np.array([additional, b])\n",
        "print(c)\n",
        "\n",
        "#----------------------------------------------------------------------------------------------------------------#\n",
        "                          #DATA SHAPE FOR NUMPY ARRAYS STRICTLY RECTANGULAR\n",
        "#----------------------------------------------------------------------------------------------------------------#"
      ],
      "metadata": {
        "colab": {
          "base_uri": "https://localhost:8080/"
        },
        "id": "LOa1dr-7ZwIK",
        "outputId": "24211ba2-2964-4e46-843f-3e59e7745dc6"
      },
      "execution_count": 5,
      "outputs": [
        {
          "output_type": "stream",
          "name": "stdout",
          "text": [
            "3D Array\n",
            "[[[1 2 3 4 5]\n",
            "  [1 2 3 4 5]]\n",
            "\n",
            " [[1 2 3 4 5]\n",
            "  [1 2 3 4 5]]]\n"
          ]
        }
      ]
    },
    {
      "cell_type": "code",
      "source": [
        "print(a.size)\n",
        "print(b.size)\n",
        "print(c.size)"
      ],
      "metadata": {
        "colab": {
          "base_uri": "https://localhost:8080/"
        },
        "id": "C2w4U9BwaFhB",
        "outputId": "b1c31696-5cd5-4600-87d9-7088ef1c9136"
      },
      "execution_count": 6,
      "outputs": [
        {
          "output_type": "stream",
          "name": "stdout",
          "text": [
            "5\n",
            "10\n",
            "20\n"
          ]
        }
      ]
    },
    {
      "cell_type": "code",
      "source": [
        "print(a.shape)\n",
        "print(b.shape)\n",
        "print(c.shape)"
      ],
      "metadata": {
        "colab": {
          "base_uri": "https://localhost:8080/"
        },
        "id": "J3uxFK3aeRWJ",
        "outputId": "955a8dd0-860d-42c1-b08b-fbeb91db553a"
      },
      "execution_count": 7,
      "outputs": [
        {
          "output_type": "stream",
          "name": "stdout",
          "text": [
            "(5,)\n",
            "(2, 5)\n",
            "(2, 2, 5)\n"
          ]
        }
      ]
    },
    {
      "cell_type": "code",
      "source": [
        "c = c.transpose()\n",
        "print(c)"
      ],
      "metadata": {
        "colab": {
          "base_uri": "https://localhost:8080/"
        },
        "id": "-OLoIUU3eVjy",
        "outputId": "2533a589-eb28-4e19-cc3d-92df6724a24f"
      },
      "execution_count": 8,
      "outputs": [
        {
          "output_type": "stream",
          "name": "stdout",
          "text": [
            "[[[1 1]\n",
            "  [1 1]]\n",
            "\n",
            " [[2 2]\n",
            "  [2 2]]\n",
            "\n",
            " [[3 3]\n",
            "  [3 3]]\n",
            "\n",
            " [[4 4]\n",
            "  [4 4]]\n",
            "\n",
            " [[5 5]\n",
            "  [5 5]]]\n"
          ]
        }
      ]
    },
    {
      "cell_type": "code",
      "source": [
        "c.shape"
      ],
      "metadata": {
        "colab": {
          "base_uri": "https://localhost:8080/"
        },
        "id": "PSshSNhbemyh",
        "outputId": "75eb4f84-c875-418e-8f8b-ea0102020a3f"
      },
      "execution_count": 9,
      "outputs": [
        {
          "output_type": "execute_result",
          "data": {
            "text/plain": [
              "(5, 2, 2)"
            ]
          },
          "metadata": {},
          "execution_count": 9
        }
      ]
    },
    {
      "cell_type": "code",
      "source": [
        "np.empty((4,4), dtype=int)"
      ],
      "metadata": {
        "colab": {
          "base_uri": "https://localhost:8080/"
        },
        "id": "jYo9W9l_ewD-",
        "outputId": "87084d5b-4b32-43cc-9dd2-a508b0fc79af"
      },
      "execution_count": 10,
      "outputs": [
        {
          "output_type": "execute_result",
          "data": {
            "text/plain": [
              "array([[   856979267,            0, 489626271861, 433791696995],\n",
              "       [498216206368, 468151435365, 476741369968, 416611827826],\n",
              "       [450971566194, 519691042924, 502511173664, 416611827822],\n",
              "       [416611827830, 463856468073, 420906795105, 433791697004]])"
            ]
          },
          "metadata": {},
          "execution_count": 10
        }
      ]
    },
    {
      "cell_type": "code",
      "source": [
        "np.ones((3,5),\n",
        "        int)"
      ],
      "metadata": {
        "colab": {
          "base_uri": "https://localhost:8080/"
        },
        "id": "vehuziPhfI_M",
        "outputId": "c027be0f-65af-4a8a-b16b-cc939fd0b7ca"
      },
      "execution_count": 11,
      "outputs": [
        {
          "output_type": "execute_result",
          "data": {
            "text/plain": [
              "array([[1, 1, 1, 1, 1],\n",
              "       [1, 1, 1, 1, 1],\n",
              "       [1, 1, 1, 1, 1]])"
            ]
          },
          "metadata": {},
          "execution_count": 11
        }
      ]
    },
    {
      "cell_type": "code",
      "source": [
        "np.zeros((2,2), str)"
      ],
      "metadata": {
        "colab": {
          "base_uri": "https://localhost:8080/"
        },
        "id": "9PW3kaXqfdUT",
        "outputId": "836c90b8-9cd4-4947-9cb0-0361704223d6"
      },
      "execution_count": 12,
      "outputs": [
        {
          "output_type": "execute_result",
          "data": {
            "text/plain": [
              "array([['', ''],\n",
              "       ['', '']], dtype='<U1')"
            ]
          },
          "metadata": {},
          "execution_count": 12
        }
      ]
    },
    {
      "cell_type": "code",
      "source": [
        "np.ones((2,2), bool)"
      ],
      "metadata": {
        "colab": {
          "base_uri": "https://localhost:8080/"
        },
        "id": "Z0oIQceZfqZf",
        "outputId": "fda42c11-95e1-41c7-dd1b-5c57089e32f8"
      },
      "execution_count": 14,
      "outputs": [
        {
          "output_type": "execute_result",
          "data": {
            "text/plain": [
              "array([[ True,  True],\n",
              "       [ True,  True]])"
            ]
          },
          "metadata": {},
          "execution_count": 14
        }
      ]
    },
    {
      "cell_type": "code",
      "source": [
        "np.arange(1,20)"
      ],
      "metadata": {
        "colab": {
          "base_uri": "https://localhost:8080/"
        },
        "id": "NJ7mCgt31lla",
        "outputId": "70920375-ac15-46d3-96fd-a9087be0909a"
      },
      "execution_count": 16,
      "outputs": [
        {
          "output_type": "execute_result",
          "data": {
            "text/plain": [
              "array([ 1,  2,  3,  4,  5,  6,  7,  8,  9, 10, 11, 12, 13, 14, 15, 16, 17,\n",
              "       18, 19])"
            ]
          },
          "metadata": {},
          "execution_count": 16
        }
      ]
    },
    {
      "cell_type": "code",
      "source": [
        "a = np.arange(2,20, 2)\n",
        "print(a)"
      ],
      "metadata": {
        "colab": {
          "base_uri": "https://localhost:8080/"
        },
        "id": "U2lslCJ11mnD",
        "outputId": "2377f017-2a81-44b5-fafe-758819586e02"
      },
      "execution_count": 18,
      "outputs": [
        {
          "output_type": "stream",
          "name": "stdout",
          "text": [
            "[ 2  4  6  8 10 12 14 16 18]\n"
          ]
        }
      ]
    },
    {
      "cell_type": "code",
      "source": [
        "a = a.reshape((3,3))\n",
        "a"
      ],
      "metadata": {
        "colab": {
          "base_uri": "https://localhost:8080/"
        },
        "id": "DMF_nLsr14HW",
        "outputId": "045585b8-1e5b-4780-af8a-28b5cb53bb85"
      },
      "execution_count": 68,
      "outputs": [
        {
          "output_type": "execute_result",
          "data": {
            "text/plain": [
              "array([[ 2,  4,  6],\n",
              "       [ 8, 10, 12],\n",
              "       [14, 16, 18]])"
            ]
          },
          "metadata": {},
          "execution_count": 68
        }
      ]
    },
    {
      "cell_type": "code",
      "source": [
        "b = a.flatten()\n",
        "b"
      ],
      "metadata": {
        "colab": {
          "base_uri": "https://localhost:8080/"
        },
        "id": "oXuH2aWD2Bj0",
        "outputId": "beecde1e-3f9f-46c4-b92d-f0a15be144bd"
      },
      "execution_count": 60,
      "outputs": [
        {
          "output_type": "execute_result",
          "data": {
            "text/plain": [
              "array([ 2,  4,  6,  8, 10, 12, 14, 16, 18])"
            ]
          },
          "metadata": {},
          "execution_count": 60
        }
      ]
    },
    {
      "cell_type": "code",
      "source": [
        "c = a.ravel()\n",
        "c"
      ],
      "metadata": {
        "colab": {
          "base_uri": "https://localhost:8080/"
        },
        "id": "NGTA_fxO2N6D",
        "outputId": "d2702f26-1be5-44bf-b760-f8532b75c7ae"
      },
      "execution_count": 22,
      "outputs": [
        {
          "output_type": "execute_result",
          "data": {
            "text/plain": [
              "array([ 2,  4,  6,  8, 10, 12, 14, 16, 18])"
            ]
          },
          "metadata": {},
          "execution_count": 22
        }
      ]
    },
    {
      "cell_type": "markdown",
      "source": [
        "FLATTEN DOESN'T CHANGE ORIGINAL ARRAY"
      ],
      "metadata": {
        "id": "hAlHlPns2m9I"
      }
    },
    {
      "cell_type": "code",
      "source": [
        "additional+lst"
      ],
      "metadata": {
        "colab": {
          "base_uri": "https://localhost:8080/"
        },
        "id": "7KP9utpx2TuO",
        "outputId": "62de47fe-14d2-4707-d208-0f28d1c642ea"
      },
      "execution_count": 27,
      "outputs": [
        {
          "output_type": "execute_result",
          "data": {
            "text/plain": [
              "array([[ 2,  4,  6,  8, 10],\n",
              "       [ 2,  4,  6,  8, 10]])"
            ]
          },
          "metadata": {},
          "execution_count": 27
        }
      ]
    },
    {
      "cell_type": "code",
      "source": [
        "b.reshape((3,3))"
      ],
      "metadata": {
        "colab": {
          "base_uri": "https://localhost:8080/"
        },
        "id": "RnxPOQFl6Yhr",
        "outputId": "34c8f7b6-72fb-427a-cfd4-cebd768eb726"
      },
      "execution_count": 65,
      "outputs": [
        {
          "output_type": "execute_result",
          "data": {
            "text/plain": [
              "array([[ 2,  4,  6],\n",
              "       [ 8, 10, 12],\n",
              "       [14, 16, 18]])"
            ]
          },
          "metadata": {},
          "execution_count": 65
        }
      ]
    },
    {
      "cell_type": "code",
      "source": [
        "a@b"
      ],
      "metadata": {
        "colab": {
          "base_uri": "https://localhost:8080/",
          "height": 144
        },
        "id": "bXlwkbpJ6c-h",
        "outputId": "d5eecdbf-9a51-4414-c559-742c85348514"
      },
      "execution_count": 69,
      "outputs": [
        {
          "output_type": "error",
          "ename": "ValueError",
          "evalue": "matmul: Input operand 1 has a mismatch in its core dimension 0, with gufunc signature (n?,k),(k,m?)->(n?,m?) (size 27 is different from 3)",
          "traceback": [
            "\u001b[0;31m---------------------------------------------------------------------------\u001b[0m",
            "\u001b[0;31mValueError\u001b[0m                                Traceback (most recent call last)",
            "\u001b[0;32m/tmp/ipython-input-69-1067337049.py\u001b[0m in \u001b[0;36m<cell line: 0>\u001b[0;34m()\u001b[0m\n\u001b[0;32m----> 1\u001b[0;31m \u001b[0ma\u001b[0m\u001b[0;34m@\u001b[0m\u001b[0mb\u001b[0m\u001b[0;34m\u001b[0m\u001b[0;34m\u001b[0m\u001b[0m\n\u001b[0m",
            "\u001b[0;31mValueError\u001b[0m: matmul: Input operand 1 has a mismatch in its core dimension 0, with gufunc signature (n?,k),(k,m?)->(n?,m?) (size 27 is different from 3)"
          ]
        }
      ]
    },
    {
      "cell_type": "code",
      "source": [
        "b = a.reshape((3,3))\n",
        "new_arr = np.array([np.arange(0,3)]*3)\n",
        "b = np.append(b, new_arr)"
      ],
      "metadata": {
        "id": "sZmbnIIN8af0"
      },
      "execution_count": 70,
      "outputs": []
    },
    {
      "cell_type": "code",
      "source": [
        "b = b.reshape((3,6))\n",
        "b"
      ],
      "metadata": {
        "colab": {
          "base_uri": "https://localhost:8080/"
        },
        "id": "uh8R3au38r2s",
        "outputId": "96288c41-45ef-47d8-de57-cef0d9e5fd0f"
      },
      "execution_count": 90,
      "outputs": [
        {
          "output_type": "execute_result",
          "data": {
            "text/plain": [
              "array([[ 2,  4,  6,  8, 10, 12],\n",
              "       [14, 16, 18,  0,  1,  2],\n",
              "       [ 0,  1,  2,  0,  1,  2]])"
            ]
          },
          "metadata": {},
          "execution_count": 90
        }
      ]
    },
    {
      "cell_type": "code",
      "source": [
        "a = np.empty((6,3))\n",
        "a"
      ],
      "metadata": {
        "colab": {
          "base_uri": "https://localhost:8080/"
        },
        "id": "rbAZgsm69nTe",
        "outputId": "f3a373cc-5b0d-465f-f657-20f63e6d4cd6"
      },
      "execution_count": 91,
      "outputs": [
        {
          "output_type": "execute_result",
          "data": {
            "text/plain": [
              "array([[4.35405304e-315, 0.00000000e+000, 6.62967172e-310],\n",
              "       [6.62967172e-310, 6.62967267e-310, 6.62967061e-310],\n",
              "       [6.62967061e-310, 6.62967061e-310, 5.32702370e-317],\n",
              "       [5.32761262e-317, 5.32738733e-317, 6.62967292e-310],\n",
              "       [5.32683793e-317, 5.32792883e-317, 6.62967292e-310],\n",
              "       [5.33031220e-317, 6.62967292e-310, 6.62967292e-310]])"
            ]
          },
          "metadata": {},
          "execution_count": 91
        }
      ]
    },
    {
      "cell_type": "code",
      "source": [
        "b.shape"
      ],
      "metadata": {
        "colab": {
          "base_uri": "https://localhost:8080/"
        },
        "id": "vIFtC_UL-vL9",
        "outputId": "43350fb9-7060-425a-c097-8935bdcc5084"
      },
      "execution_count": 92,
      "outputs": [
        {
          "output_type": "execute_result",
          "data": {
            "text/plain": [
              "(3, 6)"
            ]
          },
          "metadata": {},
          "execution_count": 92
        }
      ]
    },
    {
      "cell_type": "code",
      "source": [
        "a@b"
      ],
      "metadata": {
        "colab": {
          "base_uri": "https://localhost:8080/"
        },
        "id": "hdKl51hs9rd0",
        "outputId": "02d068de-6887-4cdc-f9ac-b33140f5751b"
      },
      "execution_count": 93,
      "outputs": [
        {
          "output_type": "execute_result",
          "data": {
            "text/plain": [
              "array([[8.70810608e-315, 6.62984588e-310, 1.32596047e-309,\n",
              "        3.48324243e-314, 6.63010713e-310, 1.32598659e-309],\n",
              "       [1.06074761e-308, 1.39223120e-308, 1.72371480e-308,\n",
              "        5.30373738e-309, 7.95560605e-309, 1.06074747e-308],\n",
              "       [1.06074730e-308, 1.32593413e-308, 1.59112096e-308,\n",
              "        5.30373649e-309, 7.29263773e-309, 9.28153897e-309],\n",
              "       [8.52386479e-316, 6.62968358e-310, 1.32593586e-309,\n",
              "        4.26209010e-316, 6.62967878e-310, 1.32593533e-309],\n",
              "       [8.52446794e-316, 6.62968358e-310, 1.32593586e-309,\n",
              "        4.26147034e-316, 6.62967878e-310, 1.32593533e-309],\n",
              "       [9.28154220e-309, 1.12704442e-308, 1.32593462e-308,\n",
              "        4.26424976e-316, 1.32593512e-309, 2.65186981e-309]])"
            ]
          },
          "metadata": {},
          "execution_count": 93
        }
      ]
    },
    {
      "cell_type": "code",
      "source": [
        "b"
      ],
      "metadata": {
        "colab": {
          "base_uri": "https://localhost:8080/"
        },
        "id": "cJlnwMRh97KI",
        "outputId": "c0f5de00-f7bb-4fa3-bc38-3fe36e280a12"
      },
      "execution_count": 94,
      "outputs": [
        {
          "output_type": "execute_result",
          "data": {
            "text/plain": [
              "array([[ 2,  4,  6,  8, 10, 12],\n",
              "       [14, 16, 18,  0,  1,  2],\n",
              "       [ 0,  1,  2,  0,  1,  2]])"
            ]
          },
          "metadata": {},
          "execution_count": 94
        }
      ]
    },
    {
      "cell_type": "code",
      "source": [
        "b.max()\n",
        "b.argmax()"
      ],
      "metadata": {
        "colab": {
          "base_uri": "https://localhost:8080/"
        },
        "id": "wXvS6KYp_mQH",
        "outputId": "bb0d2564-8c66-4562-8fb5-3e2b4ea9bc36"
      },
      "execution_count": 97,
      "outputs": [
        {
          "output_type": "execute_result",
          "data": {
            "text/plain": [
              "np.int64(8)"
            ]
          },
          "metadata": {},
          "execution_count": 97
        }
      ]
    },
    {
      "cell_type": "code",
      "source": [
        "row, col = np.unravel_index(b.argmax(), b.shape)\n",
        "row, col"
      ],
      "metadata": {
        "colab": {
          "base_uri": "https://localhost:8080/"
        },
        "id": "OkcMiurQ_nTq",
        "outputId": "3f06c1ff-6c2a-4dc9-cadc-80f6660d710f"
      },
      "execution_count": 99,
      "outputs": [
        {
          "output_type": "execute_result",
          "data": {
            "text/plain": [
              "(np.int64(1), np.int64(2))"
            ]
          },
          "metadata": {},
          "execution_count": 99
        }
      ]
    },
    {
      "cell_type": "code",
      "source": [
        "np.sum(b, axis=1)"
      ],
      "metadata": {
        "colab": {
          "base_uri": "https://localhost:8080/"
        },
        "id": "THfTapRqALau",
        "outputId": "9c474aa2-514a-4d75-9a9e-436011b61139"
      },
      "execution_count": 100,
      "outputs": [
        {
          "output_type": "execute_result",
          "data": {
            "text/plain": [
              "array([42, 51,  6])"
            ]
          },
          "metadata": {},
          "execution_count": 100
        }
      ]
    },
    {
      "cell_type": "code",
      "source": [
        "np.sum(b, axis=0)"
      ],
      "metadata": {
        "colab": {
          "base_uri": "https://localhost:8080/"
        },
        "id": "TU1lWQTHAWk_",
        "outputId": "b5938cde-9a12-498f-b052-05a5b12f6f0c"
      },
      "execution_count": 102,
      "outputs": [
        {
          "output_type": "execute_result",
          "data": {
            "text/plain": [
              "array([16, 21, 26,  8, 12, 16])"
            ]
          },
          "metadata": {},
          "execution_count": 102
        }
      ]
    },
    {
      "cell_type": "code",
      "source": [
        "print(np.mean(b))\n",
        "print(np.sqrt(b))\n",
        "print(np.std(b))"
      ],
      "metadata": {
        "colab": {
          "base_uri": "https://localhost:8080/"
        },
        "id": "fptAcV4AAXk_",
        "outputId": "20acf411-d088-45e1-bdc1-a9779b904980"
      },
      "execution_count": 103,
      "outputs": [
        {
          "output_type": "stream",
          "name": "stdout",
          "text": [
            "5.5\n",
            "[[1.41421356 2.         2.44948974 2.82842712 3.16227766 3.46410162]\n",
            " [3.74165739 4.         4.24264069 0.         1.         1.41421356]\n",
            " [0.         1.         1.41421356 0.         1.         1.41421356]]\n",
            "5.823801736552049\n",
            "[[0.69314718 1.38629436 1.79175947 2.07944154 2.30258509 2.48490665]\n",
            " [2.63905733 2.77258872 2.89037176       -inf 0.         0.69314718]\n",
            " [      -inf 0.         0.69314718       -inf 0.         0.69314718]]\n"
          ]
        },
        {
          "output_type": "stream",
          "name": "stderr",
          "text": [
            "/tmp/ipython-input-103-4275084570.py:4: RuntimeWarning: divide by zero encountered in log\n",
            "  print(np.log(b))\n"
          ]
        }
      ]
    },
    {
      "cell_type": "code",
      "source": [
        "import matplotlib.pyplot as plt\n",
        "plt.style.use('dark_background')"
      ],
      "metadata": {
        "id": "n6du1JBmCFGD"
      },
      "execution_count": 107,
      "outputs": []
    },
    {
      "cell_type": "code",
      "source": [
        "np.pi"
      ],
      "metadata": {
        "colab": {
          "base_uri": "https://localhost:8080/"
        },
        "id": "kpE_svL9CL02",
        "outputId": "e107f2ee-4b74-4658-c280-05b8bcb6372a"
      },
      "execution_count": 108,
      "outputs": [
        {
          "output_type": "execute_result",
          "data": {
            "text/plain": [
              "3.141592653589793"
            ]
          },
          "metadata": {},
          "execution_count": 108
        }
      ]
    },
    {
      "cell_type": "code",
      "source": [
        "np.sin(np.pi/2)"
      ],
      "metadata": {
        "colab": {
          "base_uri": "https://localhost:8080/"
        },
        "id": "IPE-a_mfCUho",
        "outputId": "988d68b2-83d7-4c99-8572-2932a1c2b7d4"
      },
      "execution_count": 110,
      "outputs": [
        {
          "output_type": "execute_result",
          "data": {
            "text/plain": [
              "np.float64(1.0)"
            ]
          },
          "metadata": {},
          "execution_count": 110
        }
      ]
    },
    {
      "cell_type": "code",
      "source": [
        "x = np.arange(1,11)\n",
        "y = np.arange(10, 110, 10)"
      ],
      "metadata": {
        "id": "ZNhxAb-5CXKl"
      },
      "execution_count": 111,
      "outputs": []
    },
    {
      "cell_type": "code",
      "source": [
        "plt.figure(figsize=(6,6))\n",
        "plt.plot(x,y)\n",
        "plt.show()"
      ],
      "metadata": {
        "colab": {
          "base_uri": "https://localhost:8080/",
          "height": 522
        },
        "id": "CYBATBpXC0vW",
        "outputId": "982d6a09-b4fa-4839-a8e1-8d5804c9ca02"
      },
      "execution_count": 113,
      "outputs": [
        {
          "output_type": "display_data",
          "data": {
            "text/plain": [
              "<Figure size 600x600 with 1 Axes>"
            ],
            "image/png": "[encoded data removed]"
          },
          "metadata": {}
        }
      ]
    },
    {
      "cell_type": "code",
      "source": [
        "x_sin = np.arange(0, np.deg2rad(360), 0.1)\n",
        "y_sin = np.sin(x_sin)\n",
        "plt.plot(x_sin, y_sin)\n",
        "plt.title('Sin curve')\n",
        "plt.show()"
      ],
      "metadata": {
        "colab": {
          "base_uri": "https://localhost:8080/",
          "height": 452
        },
        "id": "9GsL81M-C8qt",
        "outputId": "031ab25a-ef02-4895-e86e-e0764f6d13e6"
      },
      "execution_count": 118,
      "outputs": [
        {
          "output_type": "display_data",
          "data": {
            "text/plain": [
              "<Figure size 640x480 with 1 Axes>"
            ],
            "image/png": "[encoded data removed]"
          },
          "metadata": {}
        }
      ]
    },
    {
      "cell_type": "code",
      "source": [
        "x_cos = np.arange(0, np.deg2rad(360), 0.1)\n",
        "y_cos = np.cos(x_cos)\n",
        "plt.plot(x_cos, y_cos)\n",
        "plt.title('Cos curve')\n",
        "plt.show()"
      ],
      "metadata": {
        "colab": {
          "base_uri": "https://localhost:8080/",
          "height": 452
        },
        "id": "4MY7UhyIm8mb",
        "outputId": "cb323edb-6dc8-4d07-f10e-5a2423836736"
      },
      "execution_count": 119,
      "outputs": [
        {
          "output_type": "display_data",
          "data": {
            "text/plain": [
              "<Figure size 640x480 with 1 Axes>"
            ],
            "image/png": "[encoded data removed]"
          },
          "metadata": {}
        }
      ]
    },
    {
      "cell_type": "code",
      "source": [
        "plt.figure(figsize=(6,6))\n",
        "plt.subplot(2,2,1)\n",
        "plt.plot(x_sin, y_sin, 'r-')\n",
        "plt.title('Sin curve')\n",
        "\n",
        "\n",
        "plt.subplot(2,2,2)\n",
        "plt.plot(x_cos, y_cos, 'g-')\n",
        "plt.title('Cos curve')\n",
        "\n",
        "\n",
        "x_tan = np.arange(0, np.deg2rad(360), 0.1)\n",
        "y_tan = np.tan(x_tan)\n",
        "plt.subplot(2,2,3)\n",
        "plt.plot(x_tan, y_tan, 'w-')\n",
        "plt.title('Tan curve')\n",
        "\n",
        "x_cot = np.arange(0, np.deg2rad(360), 0.1)\n",
        "y_cot = 1/np.tan(x_cot)\n",
        "plt.subplot(2,2,4)\n",
        "plt.plot(x_tan, y_tan, 'b-')\n",
        "plt.title('Cot curve')\n",
        "\n",
        "\n",
        "\n",
        "\n",
        "\n",
        "plt.show()"
      ],
      "metadata": {
        "colab": {
          "base_uri": "https://localhost:8080/",
          "height": 581
        },
        "id": "aKI9nvRYo1WU",
        "outputId": "049b7b40-377a-4e76-f1c9-6938967dccd0"
      },
      "execution_count": 131,
      "outputs": [
        {
          "output_type": "stream",
          "name": "stderr",
          "text": [
            "/tmp/ipython-input-131-1901583444.py:19: RuntimeWarning: divide by zero encountered in divide\n",
            "  y_cot = 1/np.tan(x_cot)\n"
          ]
        },
        {
          "output_type": "display_data",
          "data": {
            "text/plain": [
              "<Figure size 600x600 with 4 Axes>"
            ],
            "image/png": "[encoded data removed]"
          },
          "metadata": {}
        }
      ]
    },
    {
      "cell_type": "code",
      "source": [
        "np.random.random(1)"
      ],
      "metadata": {
        "colab": {
          "base_uri": "https://localhost:8080/"
        },
        "id": "OsB56yUUpEri",
        "outputId": "7d3f0223-e933-4ec9-84f8-f9b49338746b"
      },
      "execution_count": 132,
      "outputs": [
        {
          "output_type": "execute_result",
          "data": {
            "text/plain": [
              "array([0.51405723])"
            ]
          },
          "metadata": {},
          "execution_count": 132
        }
      ]
    },
    {
      "cell_type": "code",
      "source": [
        "np.random.random(2)"
      ],
      "metadata": {
        "colab": {
          "base_uri": "https://localhost:8080/"
        },
        "id": "gHDXefdivfGF",
        "outputId": "328ffdb2-b131-491f-f397-ebca7e45066c"
      },
      "execution_count": 133,
      "outputs": [
        {
          "output_type": "execute_result",
          "data": {
            "text/plain": [
              "array([0.84926022, 0.24138356])"
            ]
          },
          "metadata": {},
          "execution_count": 133
        }
      ]
    },
    {
      "cell_type": "code",
      "source": [
        "np.random.randint(1,10, (2,2))"
      ],
      "metadata": {
        "colab": {
          "base_uri": "https://localhost:8080/"
        },
        "id": "h63BbW8-vgci",
        "outputId": "f8566320-f40f-439d-888f-fd4b918f1670"
      },
      "execution_count": 135,
      "outputs": [
        {
          "output_type": "execute_result",
          "data": {
            "text/plain": [
              "array([[9, 6],\n",
              "       [1, 9]])"
            ]
          },
          "metadata": {},
          "execution_count": 135
        }
      ]
    },
    {
      "cell_type": "code",
      "source": [
        "np.random.rand(2,2)"
      ],
      "metadata": {
        "colab": {
          "base_uri": "https://localhost:8080/"
        },
        "id": "CBR1xW8YxhZ5",
        "outputId": "c2c86e5d-6a8a-46e9-cb83-3532f20e8288"
      },
      "execution_count": 137,
      "outputs": [
        {
          "output_type": "execute_result",
          "data": {
            "text/plain": [
              "array([[0.7485118 , 0.63800992],\n",
              "       [0.47709715, 0.54781369]])"
            ]
          },
          "metadata": {},
          "execution_count": 137
        }
      ]
    },
    {
      "cell_type": "code",
      "source": [
        "np.random.randn(2,2)"
      ],
      "metadata": {
        "colab": {
          "base_uri": "https://localhost:8080/"
        },
        "id": "oNxrwHs3xxMq",
        "outputId": "64871b84-b352-49fd-c929-8e7c5f67804a"
      },
      "execution_count": 138,
      "outputs": [
        {
          "output_type": "execute_result",
          "data": {
            "text/plain": [
              "array([[ 0.55710269, -0.6669756 ],\n",
              "       [ 0.49598036, -1.0524077 ]])"
            ]
          },
          "metadata": {},
          "execution_count": 138
        }
      ]
    },
    {
      "cell_type": "code",
      "source": [
        "a = np.arange(1, 10)\n",
        "a"
      ],
      "metadata": {
        "colab": {
          "base_uri": "https://localhost:8080/"
        },
        "id": "ydEaH2yax4GY",
        "outputId": "421f25ab-f369-47f0-ba2c-7e2a79e7f1c0"
      },
      "execution_count": 139,
      "outputs": [
        {
          "output_type": "execute_result",
          "data": {
            "text/plain": [
              "array([1, 2, 3, 4, 5, 6, 7, 8, 9])"
            ]
          },
          "metadata": {},
          "execution_count": 139
        }
      ]
    },
    {
      "cell_type": "code",
      "source": [
        "np.random.choice(a)"
      ],
      "metadata": {
        "colab": {
          "base_uri": "https://localhost:8080/"
        },
        "id": "zWVRtCtix-co",
        "outputId": "e0cce88d-7b0e-412d-9209-311974b542a7"
      },
      "execution_count": 140,
      "outputs": [
        {
          "output_type": "execute_result",
          "data": {
            "text/plain": [
              "np.int64(8)"
            ]
          },
          "metadata": {},
          "execution_count": 140
        }
      ]
    },
    {
      "cell_type": "code",
      "source": [
        "print(np.char.center('hello', 6, '#'))"
      ],
      "metadata": {
        "colab": {
          "base_uri": "https://localhost:8080/"
        },
        "id": "NnJ0H7jbyB2v",
        "outputId": "2bfa70e6-4cd1-4001-8395-0ee8f1011f4d"
      },
      "execution_count": 151,
      "outputs": [
        {
          "output_type": "stream",
          "name": "stdout",
          "text": [
            "hello#\n"
          ]
        }
      ]
    },
    {
      "cell_type": "code",
      "source": [],
      "metadata": {
        "id": "C6UDPiWp2zqe"
      },
      "execution_count": null,
      "outputs": []
    }
  ]
}