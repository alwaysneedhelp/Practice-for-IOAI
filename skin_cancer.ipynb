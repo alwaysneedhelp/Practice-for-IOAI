{
  "nbformat": 4,
  "nbformat_minor": 0,
  "metadata": {
    "colab": {
      "provenance": [],
      "authorship_tag": "ABX9TyMqbswGB2P/DrywLFiMHukO",
      "include_colab_link": true
    },
    "kernelspec": {
      "name": "python3",
      "display_name": "Python 3"
    },
    "language_info": {
      "name": "python"
    }
  },
  "cells": [
    {
      "cell_type": "markdown",
      "metadata": {
        "id": "view-in-github",
        "colab_type": "text"
      },
      "source": [
        "<a href=\"https://colab.research.google.com/github/alwaysneedhelp/Practice-for-IOAI/blob/main/skin_cancer.ipynb\" target=\"_parent\"><img src=\"https://colab.research.google.com/assets/colab-badge.svg\" alt=\"Open In Colab\"/></a>"
      ]
    },
    {
      "cell_type": "code",
      "source": [
        "import pandas as pd\n",
        "import torch\n",
        "from sklearn.model_selection import train_test_split\n",
        "import kagglehub\n",
        "import os\n",
        "from torch.utils.data import TensorDataset, DataLoader\n",
        "import torch.nn as nn\n",
        "import torch.optim as optim\n",
        "import torchvision.transforms as trans\n",
        "import torch.nn.functional as F"
      ],
      "metadata": {
        "id": "6LGluIVJ72TY"
      },
      "execution_count": 24,
      "outputs": []
    },
    {
      "cell_type": "code",
      "source": [
        "path = kagglehub.dataset_download('kmader/skin-cancer-mnist-ham10000')\n",
        "path = os.path.join(path, \"hmnist_28_28_L.csv\")\n",
        "df = pd.read_csv(path)\n",
        "\n",
        "\n",
        "X = df.drop(\"label\", axis=1).values\n",
        "y = df[\"label\"].values\n",
        "\n",
        "\n",
        "X = X / 255.0\n",
        "X = X.reshape(-1, 1, 28, 28)\n",
        "\n",
        "\n",
        "X_train, X_val, y_train, y_val = train_test_split(X, y, test_size=0.2)"
      ],
      "metadata": {
        "id": "H5WDUxlm-m6B"
      },
      "execution_count": 23,
      "outputs": []
    },
    {
      "cell_type": "code",
      "source": [
        "train_dataset = TensorDataset(torch.tensor(X_train, dtype=torch.float32),\n",
        "                               torch.tensor(y_train, dtype=torch.long))\n",
        "val_dataset = TensorDataset(torch.tensor(X_val, dtype=torch.float32),\n",
        "                             torch.tensor(y_val, dtype=torch.long))\n",
        "\n",
        "train_loader = DataLoader(train_dataset, batch_size=64, shuffle=True)\n",
        "val_loader = DataLoader(val_dataset, batch_size=64)\n"
      ],
      "metadata": {
        "id": "i8yYDTuO_5iS"
      },
      "execution_count": 25,
      "outputs": []
    },
    {
      "cell_type": "code",
      "source": [
        "class SkinCancer(nn.Module):\n",
        "\n",
        "  def __init__(self):\n",
        "    super(SkinCancer, self).__init__()\n",
        "    self.conv1 = nn.Conv2d(1, 16, 3, padding=1)\n",
        "    self.pool = nn.MaxPool2d(2)\n",
        "    self.conv2 = nn.Conv2d(16, 32, 3, padding=1)\n",
        "\n",
        "    self.fc1 = nn.Linear(32*7*7, 128)\n",
        "    self.fc2 = nn.Linear(128, 7)\n",
        "\n",
        "    self.relu = nn.ReLU()\n",
        "\n",
        "  def forward(self, x):\n",
        "    x = self.pool(self.relu(self.conv1(x)))\n",
        "    x = self.pool(self.relu(self.conv2(x)))\n",
        "\n",
        "    x = torch.flatten(x, 1)\n",
        "    x = self.relu(self.fc1(x))\n",
        "    x = (self.fc2(x))\n",
        "\n",
        "    return x"
      ],
      "metadata": {
        "id": "WyCeKC3UCPmW"
      },
      "execution_count": 82,
      "outputs": []
    },
    {
      "cell_type": "code",
      "source": [
        "model = SkinCancer()\n",
        "loaded = os.path.exists('./models/skin_cancer.pth')\n",
        "loss_function = nn.CrossEntropyLoss()\n",
        "optimizer = optim.Adam(model.parameters(), lr=0.00001)"
      ],
      "metadata": {
        "id": "l55ReovCDO6j"
      },
      "execution_count": 113,
      "outputs": []
    },
    {
      "cell_type": "code",
      "source": [
        "def train(train_loader, loss_function, optimizer, model, epochs=50):\n",
        "\n",
        "  model.train()\n",
        "\n",
        "  for epoch in range(epochs):\n",
        "    print(f'Training {epoch}...')\n",
        "\n",
        "    total_loss = 0\n",
        "\n",
        "    for images, labels in train_loader:\n",
        "      images = images/255\n",
        "      optimizer.zero_grad()\n",
        "\n",
        "      outputs = model(images)\n",
        "      loss = loss_function(outputs, labels)\n",
        "\n",
        "      total_loss += loss.item()\n",
        "\n",
        "      loss.backward()\n",
        "      optimizer.step()\n",
        "\n",
        "    print(f'Loss: {total_loss/len(train_loader):.4f}')"
      ],
      "metadata": {
        "id": "Kk-oR4P8D1vg"
      },
      "execution_count": 114,
      "outputs": []
    },
    {
      "cell_type": "code",
      "source": [
        "\n",
        "if not loaded:\n",
        "  train(\n",
        "      train_loader,\n",
        "      loss_function,\n",
        "      optimizer,\n",
        "      model\n",
        "  )\n",
        "else:\n",
        "  model.load_state_dict(torch.load('./models/skin_cancer.pth'))"
      ],
      "metadata": {
        "collapsed": true,
        "id": "0u8TvfZXFTJf"
      },
      "execution_count": 116,
      "outputs": []
    },
    {
      "cell_type": "code",
      "source": [
        "torch.save(model.state_dict(), 'models/skin_cancer.pth')"
      ],
      "metadata": {
        "id": "p0584S4wnB9p"
      },
      "execution_count": 117,
      "outputs": []
    },
    {
      "cell_type": "code",
      "source": [
        "def evaluate(test_loader, model, loss_function):\n",
        "  model.eval()\n",
        "\n",
        "\n",
        "  correct = 0\n",
        "  total = 0\n",
        "  with torch.no_grad():\n",
        "    for images, labels in test_loader:\n",
        "\n",
        "      images /= 255\n",
        "\n",
        "      outputs = model(images)\n",
        "      loss = loss_function(outputs, labels)\n",
        "      _, preds = torch.max(outputs, 1)\n",
        "\n",
        "\n",
        "      total += labels.size(0)\n",
        "      correct += (preds==labels).sum().item()\n",
        "\n",
        "  accuracy = 100 * correct/total\n",
        "\n",
        "  print(f'Accuracy: {accuracy}')"
      ],
      "metadata": {
        "id": "BTGwhCOvFYU1"
      },
      "execution_count": 118,
      "outputs": []
    },
    {
      "cell_type": "code",
      "source": [
        "evaluate(\n",
        "    val_loader,\n",
        "    model,\n",
        "    loss_function\n",
        ")"
      ],
      "metadata": {
        "colab": {
          "base_uri": "https://localhost:8080/"
        },
        "id": "ZA2H9R1xl3Ss",
        "outputId": "280c2bf0-868d-4763-e5ef-8eb12a6ac31f"
      },
      "execution_count": 119,
      "outputs": [
        {
          "output_type": "stream",
          "name": "stdout",
          "text": [
            "Accuracy: 68.09785322016974\n"
          ]
        }
      ]
    },
    {
      "cell_type": "code",
      "source": [],
      "metadata": {
        "id": "qNLMxlzVnrp3"
      },
      "execution_count": null,
      "outputs": []
    }
  ]
}