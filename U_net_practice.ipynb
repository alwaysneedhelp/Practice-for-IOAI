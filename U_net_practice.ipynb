{
  "nbformat": 4,
  "nbformat_minor": 0,
  "metadata": {
    "colab": {
      "provenance": [],
      "authorship_tag": "ABX9TyMgR6FL6IESJ4nmTyG3grXs",
      "include_colab_link": true
    },
    "kernelspec": {
      "name": "python3",
      "display_name": "Python 3"
    },
    "language_info": {
      "name": "python"
    }
  },
  "cells": [
    {
      "cell_type": "markdown",
      "metadata": {
        "id": "view-in-github",
        "colab_type": "text"
      },
      "source": [
        "<a href=\"https://colab.research.google.com/github/alwaysneedhelp/Practice-for-IOAI/blob/main/U_net_practice.ipynb\" target=\"_parent\"><img src=\"https://colab.research.google.com/assets/colab-badge.svg\" alt=\"Open In Colab\"/></a>"
      ]
    },
    {
      "cell_type": "markdown",
      "source": [
        "Accepts 1-channel satellite images ([B, 1, H, W])\n",
        "\n",
        "Predicts rain vs no-rain for each pixel ([B, 1, H, W])\n",
        "\n",
        "Uses 3 encoder blocks (with MaxPool)\n",
        "\n",
        "A bottleneck\n",
        "\n",
        "3 decoder blocks (with ConvTranspose2d)\n",
        "\n",
        "Skip connections via torch.cat\n"
      ],
      "metadata": {
        "id": "iXYyw4zn1U_o"
      }
    },
    {
      "cell_type": "code",
      "source": [
        "import torch\n",
        "import torch.nn as nn"
      ],
      "metadata": {
        "id": "4hJJ_eWy1lg7"
      },
      "execution_count": 1,
      "outputs": []
    },
    {
      "cell_type": "code",
      "execution_count": 3,
      "metadata": {
        "id": "44mc69rY1Iie"
      },
      "outputs": [],
      "source": [
        "class UNetRainDetector(nn.Module):\n",
        "    def __init__(self):\n",
        "        super().__init__()\n",
        "\n",
        "        self.encode1 = self.conv_block(1, 64)\n",
        "        self.encode2 = self.conv_block(64, 128)\n",
        "        self.encode3 = self.conv_block(128, 256)\n",
        "        self.encode4 = self.conv_block(256, 512)\n",
        "\n",
        "        self.mid = self.conv_block(512, 1024)\n",
        "\n",
        "        self.pool = nn.MaxPool2d(2, 2)\n",
        "\n",
        "        self.up1 = nn.ConvTranspose2d(1024, 512, 2, 2)\n",
        "        self.dec1 = self.conv_block(1024, 512)\n",
        "\n",
        "        self.up2 = nn.ConvTranspose2d(512, 256, 2, 2)\n",
        "        self.dec2 = self.conv_block(512, 256)\n",
        "\n",
        "        self.up3 = nn.ConvTranspose2d(256, 128, 2, 2)\n",
        "        self.dec3 = self.conv_block(256, 128)\n",
        "\n",
        "        self.up4 = nn.ConvTranspose2d(128, 64, 2, 2)\n",
        "        self.dec4 = self.conv_block(128, 64)\n",
        "\n",
        "        self.final = nn.Conv2d(64, 1, kernel_size=1)\n",
        "\n",
        "\n",
        "\n",
        "    def conv_block(self, in_ch, out_ch):\n",
        "        order = nn.Sequential([\n",
        "            nn.Conv2d(in_ch, out_ch, 3, padding=1),\n",
        "            nn.ReLU(inplace=True),\n",
        "            nn.BatchNorm2d(out_ch),\n",
        "            nn.Conv2d(out_ch, out_ch, 3, padding=1),\n",
        "            nn.ReLU(inplace=True),\n",
        "            nn.BatchNorm2d(out_ch),\n",
        "        ])\n",
        "\n",
        "        return order\n",
        "\n",
        "    def forward(self, x):\n",
        "\n",
        "        x1 = self.encode1(x)\n",
        "        x2 = self.pool(self.encode2(x1))\n",
        "        x3 = self.pool(self.encode3(x2))\n",
        "        x4 = self.pool(self.encode4(x3))\n",
        "\n",
        "        mid = self.mid(x4)\n",
        "\n",
        "        d1 = self.dec1(torch.cat([self.up1(mid), x1], dim=1))\n",
        "        d2 = self.dec2(torch.cat([self.up2(d1), x2], dim=1))\n",
        "        d3 = self.dec3(torch.cat([self.up3(d2), x3], dim=1))\n",
        "        d4 = self.dec4(torch.cat([self.up4(d3), x4], dim=1))\n",
        "\n",
        "        return self.final(d4)"
      ]
    },
    {
      "cell_type": "code",
      "source": [],
      "metadata": {
        "id": "V5AA5XR21-ks"
      },
      "execution_count": null,
      "outputs": []
    }
  ]
}